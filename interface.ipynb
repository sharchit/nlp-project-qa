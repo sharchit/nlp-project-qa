{
 "cells": [
  {
   "cell_type": "code",
   "execution_count": 1,
   "id": "9be89ded-0bd8-483b-8de2-cce21c374f5a",
   "metadata": {
    "tags": []
   },
   "outputs": [],
   "source": [
    "from transformers import T5ForConditionalGeneration, T5Tokenizer\n",
    "import pandas as pd\n",
    "import ipywidgets as widgets\n",
    "from IPython.display import display"
   ]
  },
  {
   "cell_type": "code",
   "execution_count": 2,
   "id": "9bfd5fdc-ba4f-4314-b603-6cc02e9ffd42",
   "metadata": {
    "tags": []
   },
   "outputs": [],
   "source": [
    "# Load the model and tokenizer\n",
    "model_path = \"t5_results\"\n",
    "tokenizer = T5Tokenizer.from_pretrained(model_path)\n",
    "model = T5ForConditionalGeneration.from_pretrained(model_path)"
   ]
  },
  {
   "cell_type": "code",
   "execution_count": 3,
   "id": "9b8aa38e-6836-4508-88ab-f46c5ada44b2",
   "metadata": {
    "tags": []
   },
   "outputs": [],
   "source": [
    "def generate_answer(context, question):\n",
    "    input_text = f\"generate answer: context: {context} question: {question}\"\n",
    "    inputs = tokenizer(input_text, \n",
    "                      max_length=512,\n",
    "                      truncation=True,\n",
    "                      padding='max_length',\n",
    "                      return_tensors=\"pt\")\n",
    "    \n",
    "    outputs = model.generate(inputs.input_ids,\n",
    "                           max_length=256,\n",
    "                           num_beams=4,\n",
    "                           early_stopping=True)\n",
    "    \n",
    "    answer = tokenizer.decode(outputs[0], skip_special_tokens=True)\n",
    "    return answer"
   ]
  },
  {
   "cell_type": "code",
   "execution_count": 4,
   "id": "38dfb480-0f26-4aa0-adb2-ebb77e4fbee9",
   "metadata": {
    "tags": []
   },
   "outputs": [
    {
     "data": {
      "application/vnd.jupyter.widget-view+json": {
       "model_id": "836cee9a014f40208054457127b59311",
       "version_major": 2,
       "version_minor": 0
      },
      "text/plain": [
       "Textarea(value='', description='Context:', layout=Layout(height='150px', width='100%'))"
      ]
     },
     "metadata": {},
     "output_type": "display_data"
    },
    {
     "data": {
      "application/vnd.jupyter.widget-view+json": {
       "model_id": "a603f66796c040baab343e1d49625ae5",
       "version_major": 2,
       "version_minor": 0
      },
      "text/plain": [
       "Textarea(value='', description='Question:', layout=Layout(height='75px', width='100%'))"
      ]
     },
     "metadata": {},
     "output_type": "display_data"
    },
    {
     "data": {
      "application/vnd.jupyter.widget-view+json": {
       "model_id": "114584dbd50d4da5aa15d8ad7a03c644",
       "version_major": 2,
       "version_minor": 0
      },
      "text/plain": [
       "Button(description='Generate Answer', style=ButtonStyle())"
      ]
     },
     "metadata": {},
     "output_type": "display_data"
    },
    {
     "data": {
      "application/vnd.jupyter.widget-view+json": {
       "model_id": "717e2eb882594d1ca2897860bbaa3555",
       "version_major": 2,
       "version_minor": 0
      },
      "text/plain": [
       "Output()"
      ]
     },
     "metadata": {},
     "output_type": "display_data"
    }
   ],
   "source": [
    "context_widget = widgets.Textarea(\n",
    "    description='Context:',\n",
    "    layout={'width': '100%', 'height': '150px'}\n",
    ")\n",
    "\n",
    "question_widget = widgets.Textarea(\n",
    "    description='Question:',\n",
    "    layout={'width': '100%', 'height': '75px'}\n",
    ")\n",
    "\n",
    "output_widget = widgets.Output()\n",
    "\n",
    "button = widgets.Button(description='Generate Answer')\n",
    "\n",
    "def on_button_click(b):\n",
    "    with output_widget:\n",
    "        output_widget.clear_output()\n",
    "        answer = generate_answer(context_widget.value, question_widget.value)\n",
    "        print(\"Answer:\", answer)\n",
    "\n",
    "button.on_click(on_button_click)\n",
    "\n",
    "# Display widgets\n",
    "display(context_widget)\n",
    "display(question_widget)\n",
    "display(button)\n",
    "display(output_widget)"
   ]
  },
  {
   "cell_type": "markdown",
   "id": "9baacca7-8a89-49d3-8530-957f346a2e87",
   "metadata": {},
   "source": [
    "Context: IIT Patna hosts several annual fests that cater to diverse interests. \"Anwesha\" is a three-day cultural and techno-management fest held every spring, featuring workshops, cultural performances, competitions, and pronites. \"Celesta\" is the techno-management fest that attracts participants from across India with events like robotics competitions and technical workshops. \"Infinito\" is the sports fest that promotes athleticism and teamwork among students, while \"Apeireon\" is the coding fest organized by the Computer Science department with global participation in programming challenges\n",
    "\n",
    "1. when is anwesha conducted?\n",
    "\n",
    "Context: The grading system at IIT Patna follows a 10-point scale with grades ranging from 'A+' (excellent) to 'F' (fail). Transitional grades like 'I' (Incomplete) are awarded if a student misses an exam due to valid reasons such as illness or emergencies. 'X' grades may be given if a student’s performance is satisfactory overall but fails the end-semester exam.\n",
    "\n",
    "1. What grade is a student given if he fails exam?\n",
    "\n",
    "Context: The convocation ceremony at IIT Patna marks the transition of students into professional life. Graduates receive degrees along with awards such as the President of India Gold Medal for academic excellence and proficiency prizes for outstanding achievements in academics or leadership roles during their tenure at the institute.\n",
    "\n",
    "1. Why is president's gold medal given?"
   ]
  }
 ],
 "metadata": {
  "kernelspec": {
   "display_name": "conda_sts3",
   "language": "python",
   "name": "conda_sts3"
  },
  "language_info": {
   "codemirror_mode": {
    "name": "ipython",
    "version": 3
   },
   "file_extension": ".py",
   "mimetype": "text/x-python",
   "name": "python",
   "nbconvert_exporter": "python",
   "pygments_lexer": "ipython3",
   "version": "3.10.14"
  }
 },
 "nbformat": 4,
 "nbformat_minor": 5
}
